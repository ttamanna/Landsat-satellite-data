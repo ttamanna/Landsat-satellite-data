{
 "cells": [
  {
   "cell_type": "markdown",
   "metadata": {},
   "source": [
    "# Clustering on Landsat Satellite Data"
   ]
  },
  {
   "cell_type": "markdown",
   "metadata": {},
   "source": [
    "The data set consists of the multi-spectral values of pixels in 3x3 neighbourhoods in a satellite image, and the label information associated with the central pixel in each neighbourhood. This data set was generated from Landsat Multi-Spectral Scanner image data. To facilitate your data analysis process, we have done sampling and data pre-processing for you. All the features are named as “Feature #”, and the last attribute is the label (each number corresponds to a class)."
   ]
  },
  {
   "cell_type": "code",
   "execution_count": 1,
   "metadata": {},
   "outputs": [],
   "source": [
    "import numpy as np\n",
    "import pandas as pd\n",
    "from sklearn.cluster import KMeans\n"
   ]
  },
  {
   "cell_type": "code",
   "execution_count": 2,
   "metadata": {},
   "outputs": [
    {
     "data": {
      "text/html": [
       "<div>\n",
       "<style scoped>\n",
       "    .dataframe tbody tr th:only-of-type {\n",
       "        vertical-align: middle;\n",
       "    }\n",
       "\n",
       "    .dataframe tbody tr th {\n",
       "        vertical-align: top;\n",
       "    }\n",
       "\n",
       "    .dataframe thead th {\n",
       "        text-align: right;\n",
       "    }\n",
       "</style>\n",
       "<table border=\"1\" class=\"dataframe\">\n",
       "  <thead>\n",
       "    <tr style=\"text-align: right;\">\n",
       "      <th></th>\n",
       "      <th>Feature 1</th>\n",
       "      <th>Feature 2</th>\n",
       "      <th>Feature 3</th>\n",
       "      <th>Feature 4</th>\n",
       "      <th>Feature 5</th>\n",
       "      <th>Feature 6</th>\n",
       "      <th>Feature 7</th>\n",
       "      <th>Feature 8</th>\n",
       "      <th>Feature 9</th>\n",
       "      <th>Feature 10</th>\n",
       "      <th>...</th>\n",
       "      <th>Feature 28</th>\n",
       "      <th>Feature 29</th>\n",
       "      <th>Feature 30</th>\n",
       "      <th>Feature 31</th>\n",
       "      <th>Feature 32</th>\n",
       "      <th>Feature 33</th>\n",
       "      <th>Feature 34</th>\n",
       "      <th>Feature 35</th>\n",
       "      <th>Feature 36</th>\n",
       "      <th>Label</th>\n",
       "    </tr>\n",
       "  </thead>\n",
       "  <tbody>\n",
       "    <tr>\n",
       "      <th>0</th>\n",
       "      <td>92</td>\n",
       "      <td>115</td>\n",
       "      <td>120</td>\n",
       "      <td>94</td>\n",
       "      <td>84</td>\n",
       "      <td>102</td>\n",
       "      <td>106</td>\n",
       "      <td>79</td>\n",
       "      <td>84</td>\n",
       "      <td>102</td>\n",
       "      <td>...</td>\n",
       "      <td>104</td>\n",
       "      <td>88</td>\n",
       "      <td>121</td>\n",
       "      <td>128</td>\n",
       "      <td>100</td>\n",
       "      <td>84</td>\n",
       "      <td>107</td>\n",
       "      <td>113</td>\n",
       "      <td>87</td>\n",
       "      <td>3</td>\n",
       "    </tr>\n",
       "    <tr>\n",
       "      <th>1</th>\n",
       "      <td>84</td>\n",
       "      <td>102</td>\n",
       "      <td>106</td>\n",
       "      <td>79</td>\n",
       "      <td>84</td>\n",
       "      <td>102</td>\n",
       "      <td>102</td>\n",
       "      <td>83</td>\n",
       "      <td>80</td>\n",
       "      <td>102</td>\n",
       "      <td>...</td>\n",
       "      <td>100</td>\n",
       "      <td>84</td>\n",
       "      <td>107</td>\n",
       "      <td>113</td>\n",
       "      <td>87</td>\n",
       "      <td>84</td>\n",
       "      <td>99</td>\n",
       "      <td>104</td>\n",
       "      <td>79</td>\n",
       "      <td>3</td>\n",
       "    </tr>\n",
       "    <tr>\n",
       "      <th>2</th>\n",
       "      <td>84</td>\n",
       "      <td>102</td>\n",
       "      <td>102</td>\n",
       "      <td>83</td>\n",
       "      <td>80</td>\n",
       "      <td>102</td>\n",
       "      <td>102</td>\n",
       "      <td>79</td>\n",
       "      <td>84</td>\n",
       "      <td>94</td>\n",
       "      <td>...</td>\n",
       "      <td>87</td>\n",
       "      <td>84</td>\n",
       "      <td>99</td>\n",
       "      <td>104</td>\n",
       "      <td>79</td>\n",
       "      <td>84</td>\n",
       "      <td>99</td>\n",
       "      <td>104</td>\n",
       "      <td>79</td>\n",
       "      <td>3</td>\n",
       "    </tr>\n",
       "    <tr>\n",
       "      <th>3</th>\n",
       "      <td>80</td>\n",
       "      <td>102</td>\n",
       "      <td>102</td>\n",
       "      <td>79</td>\n",
       "      <td>84</td>\n",
       "      <td>94</td>\n",
       "      <td>102</td>\n",
       "      <td>79</td>\n",
       "      <td>80</td>\n",
       "      <td>94</td>\n",
       "      <td>...</td>\n",
       "      <td>79</td>\n",
       "      <td>84</td>\n",
       "      <td>99</td>\n",
       "      <td>104</td>\n",
       "      <td>79</td>\n",
       "      <td>84</td>\n",
       "      <td>103</td>\n",
       "      <td>104</td>\n",
       "      <td>79</td>\n",
       "      <td>3</td>\n",
       "    </tr>\n",
       "    <tr>\n",
       "      <th>4</th>\n",
       "      <td>84</td>\n",
       "      <td>94</td>\n",
       "      <td>102</td>\n",
       "      <td>79</td>\n",
       "      <td>80</td>\n",
       "      <td>94</td>\n",
       "      <td>98</td>\n",
       "      <td>76</td>\n",
       "      <td>80</td>\n",
       "      <td>102</td>\n",
       "      <td>...</td>\n",
       "      <td>79</td>\n",
       "      <td>84</td>\n",
       "      <td>103</td>\n",
       "      <td>104</td>\n",
       "      <td>79</td>\n",
       "      <td>79</td>\n",
       "      <td>107</td>\n",
       "      <td>109</td>\n",
       "      <td>87</td>\n",
       "      <td>3</td>\n",
       "    </tr>\n",
       "    <tr>\n",
       "      <th>...</th>\n",
       "      <td>...</td>\n",
       "      <td>...</td>\n",
       "      <td>...</td>\n",
       "      <td>...</td>\n",
       "      <td>...</td>\n",
       "      <td>...</td>\n",
       "      <td>...</td>\n",
       "      <td>...</td>\n",
       "      <td>...</td>\n",
       "      <td>...</td>\n",
       "      <td>...</td>\n",
       "      <td>...</td>\n",
       "      <td>...</td>\n",
       "      <td>...</td>\n",
       "      <td>...</td>\n",
       "      <td>...</td>\n",
       "      <td>...</td>\n",
       "      <td>...</td>\n",
       "      <td>...</td>\n",
       "      <td>...</td>\n",
       "      <td>...</td>\n",
       "    </tr>\n",
       "    <tr>\n",
       "      <th>5995</th>\n",
       "      <td>51</td>\n",
       "      <td>68</td>\n",
       "      <td>85</td>\n",
       "      <td>71</td>\n",
       "      <td>51</td>\n",
       "      <td>75</td>\n",
       "      <td>93</td>\n",
       "      <td>79</td>\n",
       "      <td>55</td>\n",
       "      <td>75</td>\n",
       "      <td>...</td>\n",
       "      <td>79</td>\n",
       "      <td>56</td>\n",
       "      <td>81</td>\n",
       "      <td>97</td>\n",
       "      <td>79</td>\n",
       "      <td>52</td>\n",
       "      <td>73</td>\n",
       "      <td>93</td>\n",
       "      <td>79</td>\n",
       "      <td>1</td>\n",
       "    </tr>\n",
       "    <tr>\n",
       "      <th>5996</th>\n",
       "      <td>55</td>\n",
       "      <td>75</td>\n",
       "      <td>96</td>\n",
       "      <td>79</td>\n",
       "      <td>55</td>\n",
       "      <td>72</td>\n",
       "      <td>93</td>\n",
       "      <td>71</td>\n",
       "      <td>55</td>\n",
       "      <td>72</td>\n",
       "      <td>...</td>\n",
       "      <td>79</td>\n",
       "      <td>52</td>\n",
       "      <td>66</td>\n",
       "      <td>86</td>\n",
       "      <td>72</td>\n",
       "      <td>52</td>\n",
       "      <td>66</td>\n",
       "      <td>82</td>\n",
       "      <td>68</td>\n",
       "      <td>1</td>\n",
       "    </tr>\n",
       "    <tr>\n",
       "      <th>5997</th>\n",
       "      <td>55</td>\n",
       "      <td>72</td>\n",
       "      <td>93</td>\n",
       "      <td>71</td>\n",
       "      <td>55</td>\n",
       "      <td>72</td>\n",
       "      <td>85</td>\n",
       "      <td>75</td>\n",
       "      <td>59</td>\n",
       "      <td>79</td>\n",
       "      <td>...</td>\n",
       "      <td>72</td>\n",
       "      <td>52</td>\n",
       "      <td>66</td>\n",
       "      <td>82</td>\n",
       "      <td>68</td>\n",
       "      <td>56</td>\n",
       "      <td>70</td>\n",
       "      <td>82</td>\n",
       "      <td>72</td>\n",
       "      <td>1</td>\n",
       "    </tr>\n",
       "    <tr>\n",
       "      <th>5998</th>\n",
       "      <td>55</td>\n",
       "      <td>72</td>\n",
       "      <td>85</td>\n",
       "      <td>75</td>\n",
       "      <td>59</td>\n",
       "      <td>79</td>\n",
       "      <td>93</td>\n",
       "      <td>75</td>\n",
       "      <td>59</td>\n",
       "      <td>91</td>\n",
       "      <td>...</td>\n",
       "      <td>68</td>\n",
       "      <td>56</td>\n",
       "      <td>70</td>\n",
       "      <td>82</td>\n",
       "      <td>72</td>\n",
       "      <td>56</td>\n",
       "      <td>84</td>\n",
       "      <td>97</td>\n",
       "      <td>79</td>\n",
       "      <td>1</td>\n",
       "    </tr>\n",
       "    <tr>\n",
       "      <th>5999</th>\n",
       "      <td>59</td>\n",
       "      <td>79</td>\n",
       "      <td>93</td>\n",
       "      <td>75</td>\n",
       "      <td>59</td>\n",
       "      <td>91</td>\n",
       "      <td>104</td>\n",
       "      <td>83</td>\n",
       "      <td>59</td>\n",
       "      <td>87</td>\n",
       "      <td>...</td>\n",
       "      <td>72</td>\n",
       "      <td>56</td>\n",
       "      <td>84</td>\n",
       "      <td>97</td>\n",
       "      <td>79</td>\n",
       "      <td>59</td>\n",
       "      <td>91</td>\n",
       "      <td>101</td>\n",
       "      <td>86</td>\n",
       "      <td>1</td>\n",
       "    </tr>\n",
       "  </tbody>\n",
       "</table>\n",
       "<p>6000 rows × 37 columns</p>\n",
       "</div>"
      ],
      "text/plain": [
       "      Feature 1  Feature 2  Feature 3  Feature 4  Feature 5  Feature 6  \\\n",
       "0            92        115        120         94         84        102   \n",
       "1            84        102        106         79         84        102   \n",
       "2            84        102        102         83         80        102   \n",
       "3            80        102        102         79         84         94   \n",
       "4            84         94        102         79         80         94   \n",
       "...         ...        ...        ...        ...        ...        ...   \n",
       "5995         51         68         85         71         51         75   \n",
       "5996         55         75         96         79         55         72   \n",
       "5997         55         72         93         71         55         72   \n",
       "5998         55         72         85         75         59         79   \n",
       "5999         59         79         93         75         59         91   \n",
       "\n",
       "      Feature 7  Feature 8  Feature 9  Feature 10  ...  Feature 28  \\\n",
       "0           106         79         84         102  ...         104   \n",
       "1           102         83         80         102  ...         100   \n",
       "2           102         79         84          94  ...          87   \n",
       "3           102         79         80          94  ...          79   \n",
       "4            98         76         80         102  ...          79   \n",
       "...         ...        ...        ...         ...  ...         ...   \n",
       "5995         93         79         55          75  ...          79   \n",
       "5996         93         71         55          72  ...          79   \n",
       "5997         85         75         59          79  ...          72   \n",
       "5998         93         75         59          91  ...          68   \n",
       "5999        104         83         59          87  ...          72   \n",
       "\n",
       "      Feature 29  Feature 30  Feature 31  Feature 32  Feature 33  Feature 34  \\\n",
       "0             88         121         128         100          84         107   \n",
       "1             84         107         113          87          84          99   \n",
       "2             84          99         104          79          84          99   \n",
       "3             84          99         104          79          84         103   \n",
       "4             84         103         104          79          79         107   \n",
       "...          ...         ...         ...         ...         ...         ...   \n",
       "5995          56          81          97          79          52          73   \n",
       "5996          52          66          86          72          52          66   \n",
       "5997          52          66          82          68          56          70   \n",
       "5998          56          70          82          72          56          84   \n",
       "5999          56          84          97          79          59          91   \n",
       "\n",
       "      Feature 35  Feature 36  Label  \n",
       "0            113          87      3  \n",
       "1            104          79      3  \n",
       "2            104          79      3  \n",
       "3            104          79      3  \n",
       "4            109          87      3  \n",
       "...          ...         ...    ...  \n",
       "5995          93          79      1  \n",
       "5996          82          68      1  \n",
       "5997          82          72      1  \n",
       "5998          97          79      1  \n",
       "5999         101          86      1  \n",
       "\n",
       "[6000 rows x 37 columns]"
      ]
     },
     "execution_count": 2,
     "metadata": {},
     "output_type": "execute_result"
    }
   ],
   "source": [
    "data=pd.read_csv('data/landsat/landsat.csv')\n",
    "data"
   ]
  },
  {
   "cell_type": "code",
   "execution_count": 3,
   "metadata": {},
   "outputs": [
    {
     "data": {
      "text/plain": [
       "(6000, 37)"
      ]
     },
     "execution_count": 3,
     "metadata": {},
     "output_type": "execute_result"
    }
   ],
   "source": [
    "data.shape"
   ]
  },
  {
   "cell_type": "code",
   "execution_count": 4,
   "metadata": {},
   "outputs": [],
   "source": [
    "# Specifying features and target attribute\n",
    "X = data.drop(['Label'], axis='columns')\n",
    "\n",
    "# Pre-processing with standardization\n",
    "from sklearn import preprocessing\n",
    "scaler = preprocessing.MinMaxScaler()\n",
    "X_data = X.values\n",
    "X_scaled = scaler.fit_transform(X_data)\n",
    "X = X_scaled\n",
    "\n",
    "y = data['Label'].values"
   ]
  },
  {
   "cell_type": "code",
   "execution_count": 5,
   "metadata": {},
   "outputs": [
    {
     "name": "stdout",
     "output_type": "stream",
     "text": [
      "\n",
      " inertia: 1870.742497\n",
      "\n",
      " average inertia: 0.558382\n",
      "\n"
     ]
    }
   ],
   "source": [
    "# K-means clustering model\n",
    "import math\n",
    "model = KMeans(n_clusters=5)\n",
    "model.fit(X)\n",
    "#print('\\n cluster means: \\n', model.cluster_centers_)\n",
    "print('\\n inertia: %f'% model.inertia_)\n",
    "print('\\n average inertia: %f\\n' % math.sqrt(model.inertia_/y.size))"
   ]
  },
  {
   "cell_type": "markdown",
   "metadata": {},
   "source": [
    "Smaller inertia means denser clusters.Inertia is the sum of squared error for each cluster. "
   ]
  },
  {
   "cell_type": "code",
   "execution_count": 6,
   "metadata": {},
   "outputs": [
    {
     "name": "stdout",
     "output_type": "stream",
     "text": [
      "\n",
      " davies_bouldin_score: 1.010490\n",
      "\n"
     ]
    }
   ],
   "source": [
    "from sklearn.metrics import davies_bouldin_score, adjusted_rand_score\n",
    "\n",
    "labels = model.labels_\n",
    "scores=davies_bouldin_score(X, labels)\n",
    "print('\\n davies_bouldin_score: %f\\n' % scores)"
   ]
  },
  {
   "cell_type": "markdown",
   "metadata": {},
   "source": [
    "Davies Bouldin score is the average similarity measure of each cluster with its most similar cluster, the lower the value, the better the model."
   ]
  },
  {
   "cell_type": "code",
   "execution_count": 8,
   "metadata": {},
   "outputs": [
    {
     "data": {
      "image/png": "[encoded data removed]",
      "text/plain": [
       "<Figure size 432x288 with 1 Axes>"
      ]
     },
     "metadata": {
      "needs_background": "light"
     },
     "output_type": "display_data"
    }
   ],
   "source": [
    "from matplotlib import pyplot as plt\n",
    "distortions = []\n",
    "for i in range(2, 11):\n",
    "    kmeans = KMeans(n_clusters=i)\n",
    "    kmeans.fit(X)\n",
    "    labels = kmeans.labels_\n",
    "    distortions.append(davies_bouldin_score(X, labels))\n",
    "    \n",
    "# Plot the relationship between the distortion and k\n",
    "plt.plot(range(2, 11), distortions)\n",
    "plt.title('Elbow Method')\n",
    "plt.xlabel('Number of clusters')\n",
    "plt.ylabel('DB scores')\n",
    "plt.show()"
   ]
  },
  {
   "cell_type": "markdown",
   "metadata": {},
   "source": [
    "The elbow of the graph is at 3, which means it is a good value for clustering the dataset. "
   ]
  },
  {
   "cell_type": "code",
   "execution_count": 9,
   "metadata": {},
   "outputs": [
    {
     "name": "stderr",
     "output_type": "stream",
     "text": [
      "C:\\Users\\Tamanna\\anaconda3\\lib\\site-packages\\sklearn\\utils\\deprecation.py:143: FutureWarning: The sklearn.datasets.samples_generator module is  deprecated in version 0.22 and will be removed in version 0.24. The corresponding classes / functions should instead be imported from sklearn.datasets. Anything that cannot be imported from sklearn.datasets is now part of the private API.\n",
      "  warnings.warn(message, FutureWarning)\n"
     ]
    }
   ],
   "source": [
    "from sklearn.datasets.samples_generator import make_blobs\n",
    "from sklearn.cluster import KMeans\n",
    "from sklearn.metrics import davies_bouldin_score, adjusted_rand_score\n",
    "\n",
    "from sklearn.metrics import pairwise_distances\n",
    "from scipy.cluster.hierarchy import linkage, dendrogram, cut_tree\n",
    "from scipy.spatial.distance import pdist "
   ]
  },
  {
   "cell_type": "code",
   "execution_count": 10,
   "metadata": {},
   "outputs": [],
   "source": [
    "y_pred = kmeans.predict(X)"
   ]
  },
  {
   "cell_type": "code",
   "execution_count": 11,
   "metadata": {},
   "outputs": [
    {
     "data": {
      "image/png": "[encoded data removed]",
      "text/plain": [
       "<Figure size 432x288 with 1 Axes>"
      ]
     },
     "metadata": {
      "needs_background": "light"
     },
     "output_type": "display_data"
    }
   ],
   "source": [
    "db_scores = []\n",
    "db_scores_std = []\n",
    "\n",
    "\n",
    "# Inertia (average standardized)\n",
    "inertia = []\n",
    "inertia_std = []\n",
    "\n",
    "for i in range(2, 11):\n",
    "    # Multiple runs for stable indicators\n",
    "    db_scores_tmp = []\n",
    "    ar_scores_tmp=[]\n",
    "    inertias_tmp = []\n",
    "    \n",
    "    n_iteration=10\n",
    "    \n",
    "    for j in range(0, n_iteration):\n",
    "        kmeans = KMeans(n_clusters=i, init ='k-means++', max_iter=5, n_init=3,random_state=0)\n",
    "        kmeans.fit(X)\n",
    "        labels = kmeans.labels_\n",
    "        db_scores_tmp.append(davies_bouldin_score(X, labels))\n",
    "        inertias_tmp.append(math.sqrt(kmeans.inertia_/X.shape[0]))\n",
    "    \n",
    "    db_scores.append(np.mean(db_scores_tmp))\n",
    "    db_scores_std.append(np.std(db_scores_tmp))\n",
    "    \n",
    "    inertia.append(np.mean(inertias_tmp))\n",
    "    inertia_std.append(np.std(inertias_tmp))\n",
    "\n",
    "# Plot the relationship between the davies bouldin score and k\n",
    "\n",
    "plt.errorbar(range(2, 11), db_scores, yerr=db_scores_std, marker='x', label='DB')\n",
    "plt.errorbar(range(2, 11), inertia, yerr=inertia_std, marker='+', label='inertia')\n",
    "\n",
    "plt.title('Performance evaluation')\n",
    "plt.xlabel('Number of clusters')\n",
    "plt.ylabel('Score')\n",
    "plt.legend(loc='best')\n",
    "plt.show()"
   ]
  },
  {
   "cell_type": "markdown",
   "metadata": {},
   "source": [
    "From the graph, both the values of inertia and DB scores allign at k=3, which means the dataset can be divided into 3 clusters quite nicely."
   ]
  },
  {
   "cell_type": "code",
   "execution_count": 14,
   "metadata": {},
   "outputs": [
    {
     "data": {
      "image/png": "[encoded data removed]",
      "text/plain": [
       "<Figure size 1080x360 with 1 Axes>"
      ]
     },
     "metadata": {
      "needs_background": "light"
     },
     "output_type": "display_data"
    }
   ],
   "source": [
    "dist = pdist(X, 'euclidean')\n",
    "linkage_matrix = linkage(dist, method = 'complete')\n",
    "\n",
    "plt.figure(figsize=(15,5))\n",
    "dendrogram(linkage_matrix)\n",
    "\n",
    "plt.show()"
   ]
  },
  {
   "cell_type": "markdown",
   "metadata": {},
   "source": [
    "Overall k=3 is the best value for this model. The DB score is around 0.8 and the inertia is low as well(0.7). From the dendrogram visualization, it can also be seen than k=3 is the better option to cluster the dataset."
   ]
  }
 ],
 "metadata": {
  "kernelspec": {
   "display_name": "Python 3",
   "language": "python",
   "name": "python3"
  },
  "language_info": {
   "codemirror_mode": {
    "name": "ipython",
    "version": 3
   },
   "file_extension": ".py",
   "mimetype": "text/x-python",
   "name": "python",
   "nbconvert_exporter": "python",
   "pygments_lexer": "ipython3",
   "version": "3.8.3"
  }
 },
 "nbformat": 4,
 "nbformat_minor": 2
}
