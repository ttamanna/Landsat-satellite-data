{
 "cells": [
  {
   "cell_type": "markdown",
   "metadata": {},
   "source": [
    "# Classification on Landsat Satellite Data"
   ]
  },
  {
   "cell_type": "markdown",
   "metadata": {},
   "source": [
    "The data set consists of the multi-spectral values of pixels in 3x3 neighbourhoods in a satellite image, and the label information associated with the central pixel in each neighbourhood. This data set was generated from Landsat Multi-Spectral Scanner image data. To facilitate your data analysis process, we have done sampling and data pre-processing for you. All the features are named as “Feature #”, and the last attribute is the label (each number corresponds to a class). This is a multi-class classification problem.\n"
   ]
  },
  {
   "cell_type": "markdown",
   "metadata": {},
   "source": [
    "## KNN Classifier\n"
   ]
  },
  {
   "cell_type": "code",
   "execution_count": 1,
   "metadata": {},
   "outputs": [],
   "source": [
    "import numpy as np\n",
    "import pandas as pd"
   ]
  },
  {
   "cell_type": "code",
   "execution_count": 2,
   "metadata": {},
   "outputs": [
    {
     "data": {
      "text/html": [
       "<div>\n",
       "<style scoped>\n",
       "    .dataframe tbody tr th:only-of-type {\n",
       "        vertical-align: middle;\n",
       "    }\n",
       "\n",
       "    .dataframe tbody tr th {\n",
       "        vertical-align: top;\n",
       "    }\n",
       "\n",
       "    .dataframe thead th {\n",
       "        text-align: right;\n",
       "    }\n",
       "</style>\n",
       "<table border=\"1\" class=\"dataframe\">\n",
       "  <thead>\n",
       "    <tr style=\"text-align: right;\">\n",
       "      <th></th>\n",
       "      <th>Feature 1</th>\n",
       "      <th>Feature 2</th>\n",
       "      <th>Feature 3</th>\n",
       "      <th>Feature 4</th>\n",
       "      <th>Feature 5</th>\n",
       "      <th>Feature 6</th>\n",
       "      <th>Feature 7</th>\n",
       "      <th>Feature 8</th>\n",
       "      <th>Feature 9</th>\n",
       "      <th>Feature 10</th>\n",
       "      <th>...</th>\n",
       "      <th>Feature 28</th>\n",
       "      <th>Feature 29</th>\n",
       "      <th>Feature 30</th>\n",
       "      <th>Feature 31</th>\n",
       "      <th>Feature 32</th>\n",
       "      <th>Feature 33</th>\n",
       "      <th>Feature 34</th>\n",
       "      <th>Feature 35</th>\n",
       "      <th>Feature 36</th>\n",
       "      <th>Label</th>\n",
       "    </tr>\n",
       "  </thead>\n",
       "  <tbody>\n",
       "    <tr>\n",
       "      <th>0</th>\n",
       "      <td>92</td>\n",
       "      <td>115</td>\n",
       "      <td>120</td>\n",
       "      <td>94</td>\n",
       "      <td>84</td>\n",
       "      <td>102</td>\n",
       "      <td>106</td>\n",
       "      <td>79</td>\n",
       "      <td>84</td>\n",
       "      <td>102</td>\n",
       "      <td>...</td>\n",
       "      <td>104</td>\n",
       "      <td>88</td>\n",
       "      <td>121</td>\n",
       "      <td>128</td>\n",
       "      <td>100</td>\n",
       "      <td>84</td>\n",
       "      <td>107</td>\n",
       "      <td>113</td>\n",
       "      <td>87</td>\n",
       "      <td>3</td>\n",
       "    </tr>\n",
       "    <tr>\n",
       "      <th>1</th>\n",
       "      <td>84</td>\n",
       "      <td>102</td>\n",
       "      <td>106</td>\n",
       "      <td>79</td>\n",
       "      <td>84</td>\n",
       "      <td>102</td>\n",
       "      <td>102</td>\n",
       "      <td>83</td>\n",
       "      <td>80</td>\n",
       "      <td>102</td>\n",
       "      <td>...</td>\n",
       "      <td>100</td>\n",
       "      <td>84</td>\n",
       "      <td>107</td>\n",
       "      <td>113</td>\n",
       "      <td>87</td>\n",
       "      <td>84</td>\n",
       "      <td>99</td>\n",
       "      <td>104</td>\n",
       "      <td>79</td>\n",
       "      <td>3</td>\n",
       "    </tr>\n",
       "    <tr>\n",
       "      <th>2</th>\n",
       "      <td>84</td>\n",
       "      <td>102</td>\n",
       "      <td>102</td>\n",
       "      <td>83</td>\n",
       "      <td>80</td>\n",
       "      <td>102</td>\n",
       "      <td>102</td>\n",
       "      <td>79</td>\n",
       "      <td>84</td>\n",
       "      <td>94</td>\n",
       "      <td>...</td>\n",
       "      <td>87</td>\n",
       "      <td>84</td>\n",
       "      <td>99</td>\n",
       "      <td>104</td>\n",
       "      <td>79</td>\n",
       "      <td>84</td>\n",
       "      <td>99</td>\n",
       "      <td>104</td>\n",
       "      <td>79</td>\n",
       "      <td>3</td>\n",
       "    </tr>\n",
       "    <tr>\n",
       "      <th>3</th>\n",
       "      <td>80</td>\n",
       "      <td>102</td>\n",
       "      <td>102</td>\n",
       "      <td>79</td>\n",
       "      <td>84</td>\n",
       "      <td>94</td>\n",
       "      <td>102</td>\n",
       "      <td>79</td>\n",
       "      <td>80</td>\n",
       "      <td>94</td>\n",
       "      <td>...</td>\n",
       "      <td>79</td>\n",
       "      <td>84</td>\n",
       "      <td>99</td>\n",
       "      <td>104</td>\n",
       "      <td>79</td>\n",
       "      <td>84</td>\n",
       "      <td>103</td>\n",
       "      <td>104</td>\n",
       "      <td>79</td>\n",
       "      <td>3</td>\n",
       "    </tr>\n",
       "    <tr>\n",
       "      <th>4</th>\n",
       "      <td>84</td>\n",
       "      <td>94</td>\n",
       "      <td>102</td>\n",
       "      <td>79</td>\n",
       "      <td>80</td>\n",
       "      <td>94</td>\n",
       "      <td>98</td>\n",
       "      <td>76</td>\n",
       "      <td>80</td>\n",
       "      <td>102</td>\n",
       "      <td>...</td>\n",
       "      <td>79</td>\n",
       "      <td>84</td>\n",
       "      <td>103</td>\n",
       "      <td>104</td>\n",
       "      <td>79</td>\n",
       "      <td>79</td>\n",
       "      <td>107</td>\n",
       "      <td>109</td>\n",
       "      <td>87</td>\n",
       "      <td>3</td>\n",
       "    </tr>\n",
       "    <tr>\n",
       "      <th>...</th>\n",
       "      <td>...</td>\n",
       "      <td>...</td>\n",
       "      <td>...</td>\n",
       "      <td>...</td>\n",
       "      <td>...</td>\n",
       "      <td>...</td>\n",
       "      <td>...</td>\n",
       "      <td>...</td>\n",
       "      <td>...</td>\n",
       "      <td>...</td>\n",
       "      <td>...</td>\n",
       "      <td>...</td>\n",
       "      <td>...</td>\n",
       "      <td>...</td>\n",
       "      <td>...</td>\n",
       "      <td>...</td>\n",
       "      <td>...</td>\n",
       "      <td>...</td>\n",
       "      <td>...</td>\n",
       "      <td>...</td>\n",
       "      <td>...</td>\n",
       "    </tr>\n",
       "    <tr>\n",
       "      <th>5995</th>\n",
       "      <td>51</td>\n",
       "      <td>68</td>\n",
       "      <td>85</td>\n",
       "      <td>71</td>\n",
       "      <td>51</td>\n",
       "      <td>75</td>\n",
       "      <td>93</td>\n",
       "      <td>79</td>\n",
       "      <td>55</td>\n",
       "      <td>75</td>\n",
       "      <td>...</td>\n",
       "      <td>79</td>\n",
       "      <td>56</td>\n",
       "      <td>81</td>\n",
       "      <td>97</td>\n",
       "      <td>79</td>\n",
       "      <td>52</td>\n",
       "      <td>73</td>\n",
       "      <td>93</td>\n",
       "      <td>79</td>\n",
       "      <td>1</td>\n",
       "    </tr>\n",
       "    <tr>\n",
       "      <th>5996</th>\n",
       "      <td>55</td>\n",
       "      <td>75</td>\n",
       "      <td>96</td>\n",
       "      <td>79</td>\n",
       "      <td>55</td>\n",
       "      <td>72</td>\n",
       "      <td>93</td>\n",
       "      <td>71</td>\n",
       "      <td>55</td>\n",
       "      <td>72</td>\n",
       "      <td>...</td>\n",
       "      <td>79</td>\n",
       "      <td>52</td>\n",
       "      <td>66</td>\n",
       "      <td>86</td>\n",
       "      <td>72</td>\n",
       "      <td>52</td>\n",
       "      <td>66</td>\n",
       "      <td>82</td>\n",
       "      <td>68</td>\n",
       "      <td>1</td>\n",
       "    </tr>\n",
       "    <tr>\n",
       "      <th>5997</th>\n",
       "      <td>55</td>\n",
       "      <td>72</td>\n",
       "      <td>93</td>\n",
       "      <td>71</td>\n",
       "      <td>55</td>\n",
       "      <td>72</td>\n",
       "      <td>85</td>\n",
       "      <td>75</td>\n",
       "      <td>59</td>\n",
       "      <td>79</td>\n",
       "      <td>...</td>\n",
       "      <td>72</td>\n",
       "      <td>52</td>\n",
       "      <td>66</td>\n",
       "      <td>82</td>\n",
       "      <td>68</td>\n",
       "      <td>56</td>\n",
       "      <td>70</td>\n",
       "      <td>82</td>\n",
       "      <td>72</td>\n",
       "      <td>1</td>\n",
       "    </tr>\n",
       "    <tr>\n",
       "      <th>5998</th>\n",
       "      <td>55</td>\n",
       "      <td>72</td>\n",
       "      <td>85</td>\n",
       "      <td>75</td>\n",
       "      <td>59</td>\n",
       "      <td>79</td>\n",
       "      <td>93</td>\n",
       "      <td>75</td>\n",
       "      <td>59</td>\n",
       "      <td>91</td>\n",
       "      <td>...</td>\n",
       "      <td>68</td>\n",
       "      <td>56</td>\n",
       "      <td>70</td>\n",
       "      <td>82</td>\n",
       "      <td>72</td>\n",
       "      <td>56</td>\n",
       "      <td>84</td>\n",
       "      <td>97</td>\n",
       "      <td>79</td>\n",
       "      <td>1</td>\n",
       "    </tr>\n",
       "    <tr>\n",
       "      <th>5999</th>\n",
       "      <td>59</td>\n",
       "      <td>79</td>\n",
       "      <td>93</td>\n",
       "      <td>75</td>\n",
       "      <td>59</td>\n",
       "      <td>91</td>\n",
       "      <td>104</td>\n",
       "      <td>83</td>\n",
       "      <td>59</td>\n",
       "      <td>87</td>\n",
       "      <td>...</td>\n",
       "      <td>72</td>\n",
       "      <td>56</td>\n",
       "      <td>84</td>\n",
       "      <td>97</td>\n",
       "      <td>79</td>\n",
       "      <td>59</td>\n",
       "      <td>91</td>\n",
       "      <td>101</td>\n",
       "      <td>86</td>\n",
       "      <td>1</td>\n",
       "    </tr>\n",
       "  </tbody>\n",
       "</table>\n",
       "<p>6000 rows × 37 columns</p>\n",
       "</div>"
      ],
      "text/plain": [
       "      Feature 1  Feature 2  Feature 3  Feature 4  Feature 5  Feature 6  \\\n",
       "0            92        115        120         94         84        102   \n",
       "1            84        102        106         79         84        102   \n",
       "2            84        102        102         83         80        102   \n",
       "3            80        102        102         79         84         94   \n",
       "4            84         94        102         79         80         94   \n",
       "...         ...        ...        ...        ...        ...        ...   \n",
       "5995         51         68         85         71         51         75   \n",
       "5996         55         75         96         79         55         72   \n",
       "5997         55         72         93         71         55         72   \n",
       "5998         55         72         85         75         59         79   \n",
       "5999         59         79         93         75         59         91   \n",
       "\n",
       "      Feature 7  Feature 8  Feature 9  Feature 10  ...  Feature 28  \\\n",
       "0           106         79         84         102  ...         104   \n",
       "1           102         83         80         102  ...         100   \n",
       "2           102         79         84          94  ...          87   \n",
       "3           102         79         80          94  ...          79   \n",
       "4            98         76         80         102  ...          79   \n",
       "...         ...        ...        ...         ...  ...         ...   \n",
       "5995         93         79         55          75  ...          79   \n",
       "5996         93         71         55          72  ...          79   \n",
       "5997         85         75         59          79  ...          72   \n",
       "5998         93         75         59          91  ...          68   \n",
       "5999        104         83         59          87  ...          72   \n",
       "\n",
       "      Feature 29  Feature 30  Feature 31  Feature 32  Feature 33  Feature 34  \\\n",
       "0             88         121         128         100          84         107   \n",
       "1             84         107         113          87          84          99   \n",
       "2             84          99         104          79          84          99   \n",
       "3             84          99         104          79          84         103   \n",
       "4             84         103         104          79          79         107   \n",
       "...          ...         ...         ...         ...         ...         ...   \n",
       "5995          56          81          97          79          52          73   \n",
       "5996          52          66          86          72          52          66   \n",
       "5997          52          66          82          68          56          70   \n",
       "5998          56          70          82          72          56          84   \n",
       "5999          56          84          97          79          59          91   \n",
       "\n",
       "      Feature 35  Feature 36  Label  \n",
       "0            113          87      3  \n",
       "1            104          79      3  \n",
       "2            104          79      3  \n",
       "3            104          79      3  \n",
       "4            109          87      3  \n",
       "...          ...         ...    ...  \n",
       "5995          93          79      1  \n",
       "5996          82          68      1  \n",
       "5997          82          72      1  \n",
       "5998          97          79      1  \n",
       "5999         101          86      1  \n",
       "\n",
       "[6000 rows x 37 columns]"
      ]
     },
     "execution_count": 2,
     "metadata": {},
     "output_type": "execute_result"
    }
   ],
   "source": [
    "data=pd.read_csv('data/landsat/landsat.csv')\n",
    "data"
   ]
  },
  {
   "cell_type": "code",
   "execution_count": 3,
   "metadata": {},
   "outputs": [
    {
     "data": {
      "text/plain": [
       "(6000, 37)"
      ]
     },
     "execution_count": 3,
     "metadata": {},
     "output_type": "execute_result"
    }
   ],
   "source": [
    "data.shape"
   ]
  },
  {
   "cell_type": "code",
   "execution_count": 4,
   "metadata": {},
   "outputs": [
    {
     "data": {
      "text/plain": [
       "{1, 2, 3, 4, 5, 7}"
      ]
     },
     "execution_count": 4,
     "metadata": {},
     "output_type": "execute_result"
    }
   ],
   "source": [
    "set(data['Label'])"
   ]
  },
  {
   "cell_type": "code",
   "execution_count": 5,
   "metadata": {},
   "outputs": [
    {
     "name": "stdout",
     "output_type": "stream",
     "text": [
      "(4800, 37)\n",
      "(1200, 37)\n"
     ]
    }
   ],
   "source": [
    "from sklearn.model_selection import train_test_split\n",
    "from sklearn import model_selection as ms\n",
    "\n",
    "train, test = train_test_split(data, test_size =0.2, random_state = 142)\n",
    "print(train.shape)\n",
    "print(test.shape)"
   ]
  },
  {
   "cell_type": "code",
   "execution_count": 6,
   "metadata": {},
   "outputs": [],
   "source": [
    "from sklearn.preprocessing import StandardScaler\n",
    "from sklearn.neighbors import KNeighborsClassifier\n",
    "from sklearn.tree import DecisionTreeClassifier\n",
    "\n",
    "X = data.iloc[:, :-1].values\n",
    "y = data.iloc[:, 36].values\n",
    "\n",
    "X_tr, X_te, y_tr, y_te = train_test_split(X, y, test_size=0.20)\n",
    "\n",
    "scaler = StandardScaler()\n",
    "scaler.fit(X_tr)\n",
    "\n",
    "X_tr = scaler.transform(X_tr)\n",
    "X_te = scaler.transform(X_te)"
   ]
  },
  {
   "cell_type": "code",
   "execution_count": 7,
   "metadata": {},
   "outputs": [],
   "source": [
    "KNN = KNeighborsClassifier(n_neighbors=5)\n",
    "KNN.fit(X_tr, y_tr)\n",
    "\n",
    "y_pred = KNN.predict(X_te)\n",
    "\n",
    "clf = DecisionTreeClassifier(random_state=142)\n",
    "clf.fit(X_tr, y_tr)\n",
    "y_pred = clf.predict(X_te)"
   ]
  },
  {
   "cell_type": "markdown",
   "metadata": {},
   "source": [
    "## Hyperparameter tuning(KNN)"
   ]
  },
  {
   "cell_type": "code",
   "execution_count": 8,
   "metadata": {},
   "outputs": [
    {
     "name": "stdout",
     "output_type": "stream",
     "text": [
      "Accuracies scores:  [0.895, 0.8833333333333333, 0.9116666666666666, 0.9125, 0.89, 0.8958333333333334]\n"
     ]
    },
    {
     "data": {
      "text/plain": [
       "Text(0.5, 1.0, 'Accuracy scores')"
      ]
     },
     "execution_count": 8,
     "metadata": {},
     "output_type": "execute_result"
    },
    {
     "data": {
      "image/png": "[encoded data removed]",
      "text/plain": [
       "<Figure size 432x288 with 1 Axes>"
      ]
     },
     "metadata": {
      "needs_background": "light"
     },
     "output_type": "display_data"
    }
   ],
   "source": [
    "import matplotlib.pyplot as plt\n",
    "from sklearn.neighbors import KNeighborsClassifier\n",
    "from sklearn import metrics\n",
    "\n",
    "accuracies = []\n",
    "n_neighbors_values = [1, 2, 3, 5, 10, 15]\n",
    "for n_neighbor in n_neighbors_values:\n",
    "    knn = KNeighborsClassifier(n_neighbors=n_neighbor)\n",
    "    knn.fit(X_tr, y_tr)\n",
    "    y_pred = knn.predict(X_te)\n",
    "    acc = metrics.accuracy_score(y_te, y_pred)\n",
    "    accuracies.append(acc)\n",
    "print(\"Accuracies scores: \", accuracies)\n",
    "plt.plot(n_neighbors_values, accuracies, color='blue', marker='o')\n",
    "plt.xlabel('n_neighbors')\n",
    "plt.ylabel('Accuracy score')\n",
    "plt.title('Accuracy scores')"
   ]
  },
  {
   "cell_type": "markdown",
   "metadata": {},
   "source": [
    "From the above execution, it can be understood that n=3 gives the best output, which is an accuracy score of 0.91083."
   ]
  },
  {
   "cell_type": "code",
   "execution_count": 9,
   "metadata": {},
   "outputs": [
    {
     "name": "stdout",
     "output_type": "stream",
     "text": [
      "best parameter:  {'n_neighbors': 3}\n",
      "best score:  0.8783333333333334\n"
     ]
    }
   ],
   "source": [
    "from sklearn.model_selection import GridSearchCV\n",
    "parameters = {'n_neighbors': [1,2,3,5,10,15]}\n",
    "neigh = KNeighborsClassifier()\n",
    "clf = GridSearchCV(neigh, parameters,scoring = 'accuracy', cv = 15)\n",
    "clf.fit(X, y)\n",
    "print(\"best parameter: \", clf.best_params_)\n",
    "print(\"best score: \", clf.best_score_)"
   ]
  },
  {
   "cell_type": "markdown",
   "metadata": {},
   "source": [
    "Executing GridSearchCV matches the previous result for the neighbour values, but it gives an accuracy score of 0.878333."
   ]
  },
  {
   "cell_type": "code",
   "execution_count": 10,
   "metadata": {},
   "outputs": [
    {
     "name": "stdout",
     "output_type": "stream",
     "text": [
      "[[216   1   3   0   1   0]\n",
      " [  0 136   2   1   3   1]\n",
      " [  1   0 248  14   0   2]\n",
      " [  0   1  17  88   2  16]\n",
      " [  9   1   0   4 101  12]\n",
      " [  0   1   2  25   6 286]]\n",
      "              precision    recall  f1-score   support\n",
      "\n",
      "           1       0.96      0.98      0.97       221\n",
      "           2       0.97      0.95      0.96       143\n",
      "           3       0.91      0.94      0.92       265\n",
      "           4       0.67      0.71      0.69       124\n",
      "           5       0.89      0.80      0.84       127\n",
      "           7       0.90      0.89      0.90       320\n",
      "\n",
      "    accuracy                           0.90      1200\n",
      "   macro avg       0.88      0.88      0.88      1200\n",
      "weighted avg       0.90      0.90      0.90      1200\n",
      "\n"
     ]
    }
   ],
   "source": [
    "from sklearn.metrics import classification_report, confusion_matrix, accuracy_score\n",
    "\n",
    "print(confusion_matrix(y_te, y_pred))\n",
    "print(classification_report(y_te, y_pred))"
   ]
  },
  {
   "cell_type": "markdown",
   "metadata": {},
   "source": [
    "The report provides detailed outcomes for the different neighbour values chosen in regards to various parameters showing the accuracy of the model. n=1 gives a good outcome, but it is more relevant to design a model with more than 1 neighbour. In this case, n=3 works the best."
   ]
  },
  {
   "cell_type": "markdown",
   "metadata": {},
   "source": [
    "## Hyperparameter tuning: criterion='gini' and max_depth"
   ]
  },
  {
   "cell_type": "code",
   "execution_count": null,
   "metadata": {},
   "outputs": [],
   "source": [
    "from sklearn.preprocessing import MinMaxScaler\n",
    "\n",
    "X = data.drop('Label', axis='columns')\n",
    "\n",
    "# Standardized\n",
    "scaler = MinMaxScaler()\n",
    "X_data = X.values\n",
    "X_scaled = scaler.fit_transform(X_data)\n",
    "X = X_scaled\n",
    "\n",
    "y = data['Label']\n",
    "\n",
    "#Splitting to test and training set\n",
    "X_tr, X_te, y_tr, y_te = train_test_split(X, y, test_size=0.20)"
   ]
  },
  {
   "cell_type": "code",
   "execution_count": null,
   "metadata": {},
   "outputs": [],
   "source": [
    "from sklearn.tree import DecisionTreeClassifier\n",
    "Dtc = DecisionTreeClassifier(criterion='gini')\n",
    "Dtc.fit(X_tr, y_tr)"
   ]
  },
  {
   "cell_type": "code",
   "execution_count": null,
   "metadata": {},
   "outputs": [],
   "source": [
    "y_pred = Dtc.predict(X_te)"
   ]
  },
  {
   "cell_type": "code",
   "execution_count": null,
   "metadata": {},
   "outputs": [],
   "source": [
    "print(confusion_matrix(y_te, y_pred))\n",
    "print(classification_report(y_te, y_pred))"
   ]
  },
  {
   "cell_type": "markdown",
   "metadata": {},
   "source": [
    "Overall, n=5 is a good option for this model."
   ]
  },
  {
   "cell_type": "code",
   "execution_count": null,
   "metadata": {},
   "outputs": [],
   "source": [
    "max_depths = range(1, 20)\n",
    "acc_scores = list()\n",
    "\n",
    "for depth in max_depths:\n",
    "    Dtc = DecisionTreeClassifier(max_depth = depth, random_state = 0)\n",
    "    Dtc.fit(X_tr, y_tr)\n",
    "    y_pred = Dtc.predict(X_te)\n",
    "    acc_scores.append(accuracy_score(y_te, y_pred))\n",
    "    \n",
    "plt.plot(max_depths, acc_scores, color='blue', marker='o')\n",
    "plt.title('Accuracy Change w.r.t. Tree Depth')\n",
    "plt.xlabel('Max Depth')\n",
    "plt.xticks(max_depths)\n",
    "plt.ylabel('Accuracy')\n",
    "plt.show()"
   ]
  },
  {
   "cell_type": "markdown",
   "metadata": {},
   "source": [
    "When Accuracy vs Max depth is plotted, the values does not change much after depth value 9. After that, the values are close to 1, which means the prediction is close to the actual value. So, the depth is optimal to be 9."
   ]
  }
 ],
 "metadata": {
  "kernelspec": {
   "display_name": "Python 3",
   "language": "python",
   "name": "python3"
  },
  "language_info": {
   "codemirror_mode": {
    "name": "ipython",
    "version": 3
   },
   "file_extension": ".py",
   "mimetype": "text/x-python",
   "name": "python",
   "nbconvert_exporter": "python",
   "pygments_lexer": "ipython3",
   "version": "3.8.3"
  }
 },
 "nbformat": 4,
 "nbformat_minor": 2
}
